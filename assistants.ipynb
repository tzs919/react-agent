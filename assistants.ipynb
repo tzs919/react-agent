{
 "cells": [
  {
   "cell_type": "code",
   "execution_count": 1,
   "metadata": {},
   "outputs": [],
   "source": [
    "from langgraph_sdk import get_client\n",
    "\n",
    "client = get_client(url=\"http://localhost:2024\")\n",
    "# Select an assistant that is not configured\n",
    "assistants = await client.assistants.search()\n",
    "assistant = [a for a in assistants if not a[\"config\"]][0]"
   ]
  },
  {
   "cell_type": "code",
   "execution_count": 2,
   "metadata": {},
   "outputs": [
    {
     "data": {
      "text/plain": [
       "{'assistant_id': 'fe096781-5601-53d2-b2f6-0d3403f7e9ca',\n",
       " 'graph_id': 'agent',\n",
       " 'config': {},\n",
       " 'metadata': {'created_by': 'system'},\n",
       " 'name': 'ReAct Agent',\n",
       " 'created_at': '2025-07-03T04:44:04.320422+00:00',\n",
       " 'updated_at': '2025-07-03T04:44:04.320422+00:00',\n",
       " 'version': 1,\n",
       " 'description': None}"
      ]
     },
     "execution_count": 2,
     "metadata": {},
     "output_type": "execute_result"
    }
   ],
   "source": [
    "assistant"
   ]
  },
  {
   "cell_type": "code",
   "execution_count": null,
   "metadata": {},
   "outputs": [],
   "source": [
    "assistants"
   ]
  },
  {
   "cell_type": "code",
   "execution_count": 4,
   "metadata": {},
   "outputs": [
    {
     "name": "stdout",
     "output_type": "stream",
     "text": [
      "{'properties': {'system_prompt': {'default': 'You are a helpful AI assistant.\\n\\nSystem time: {system_time}', 'description': \"The system prompt to use for the agent's interactions. This prompt sets the context and behavior for the agent.\", 'title': 'System Prompt', 'type': 'string'}, 'model': {'default': 'deepseek/deepseek-chat', 'description': \"The name of the language model to use for the agent's main interactions. Should be in the form: provider/model-name.\", 'title': 'Model', 'type': 'string'}, 'max_search_results': {'default': 10, 'description': 'The maximum number of search results to return for each search query.', 'title': 'Max Search Results', 'type': 'integer'}}, 'title': 'Configuration', 'type': 'object'}\n"
     ]
    }
   ],
   "source": [
    "schemas = await client.assistants.get_schemas(\n",
    "    assistant_id=assistant[\"assistant_id\"]\n",
    ")\n",
    "# There are multiple types of schemas\n",
    "# We can get the `config_schema` to look at the configurable parameters\n",
    "print(schemas[\"config_schema\"])"
   ]
  },
  {
   "cell_type": "code",
   "execution_count": 5,
   "metadata": {},
   "outputs": [
    {
     "name": "stdout",
     "output_type": "stream",
     "text": [
      "{'assistant_id': '6ec4e493-c5a0-4fbc-be01-4c8c93960871', 'graph_id': 'agent', 'config': {'configurable': {'model_name': 'openai'}}, 'metadata': {}, 'name': 'Untitled', 'created_at': '2025-07-03T06:59:05.883059+00:00', 'updated_at': '2025-07-03T06:59:05.883059+00:00', 'version': 1, 'description': None}\n"
     ]
    }
   ],
   "source": [
    "openai_assistant = await client.assistants.create(\n",
    "    # \"agent\" is the name of a graph we deployed\n",
    "    \"agent\", config={\"configurable\": {\"model_name\": \"openai\"}}\n",
    ")\n",
    "\n",
    "print(openai_assistant)"
   ]
  },
  {
   "cell_type": "code",
   "execution_count": 6,
   "metadata": {},
   "outputs": [
    {
     "name": "stdout",
     "output_type": "stream",
     "text": [
      "{'assistant_id': '56bc0789-354d-467a-b4ad-d443c0a2cdb8', 'graph_id': 'agent', 'config': {'configurable': {'model': 'openai/openai-gpt-4o-mini'}}, 'metadata': {}, 'name': 'Untitled', 'created_at': '2025-07-03T07:00:28.172191+00:00', 'updated_at': '2025-07-03T07:00:28.172191+00:00', 'version': 1, 'description': None}\n"
     ]
    }
   ],
   "source": [
    "openai_assistant = await client.assistants.create(\n",
    "    # \"agent\" is the name of a graph we deployed\n",
    "    \"agent\", config={\"configurable\": {\"model\": \"openai/openai-gpt-4o-mini\"}}\n",
    ")\n",
    "\n",
    "print(openai_assistant)"
   ]
  },
  {
   "cell_type": "code",
   "execution_count": 7,
   "metadata": {},
   "outputs": [],
   "source": [
    "assistants = await client.assistants.search()\n",
    "assistant = [a for a in assistants if not a[\"config\"]][0]"
   ]
  },
  {
   "cell_type": "code",
   "execution_count": 8,
   "metadata": {},
   "outputs": [
    {
     "data": {
      "text/plain": [
       "[{'assistant_id': '56bc0789-354d-467a-b4ad-d443c0a2cdb8',\n",
       "  'graph_id': 'agent',\n",
       "  'config': {'configurable': {'model': 'openai/openai-gpt-4o-mini'}},\n",
       "  'metadata': {},\n",
       "  'name': 'Untitled',\n",
       "  'created_at': '2025-07-03T07:00:28.172191+00:00',\n",
       "  'updated_at': '2025-07-03T07:00:28.172191+00:00',\n",
       "  'version': 1,\n",
       "  'description': None},\n",
       " {'assistant_id': '6ec4e493-c5a0-4fbc-be01-4c8c93960871',\n",
       "  'graph_id': 'agent',\n",
       "  'config': {'configurable': {'model_name': 'openai'}},\n",
       "  'metadata': {},\n",
       "  'name': 'Untitled',\n",
       "  'created_at': '2025-07-03T06:59:05.883059+00:00',\n",
       "  'updated_at': '2025-07-03T06:59:05.883059+00:00',\n",
       "  'version': 1,\n",
       "  'description': None},\n",
       " {'assistant_id': 'fe096781-5601-53d2-b2f6-0d3403f7e9ca',\n",
       "  'graph_id': 'agent',\n",
       "  'config': {},\n",
       "  'metadata': {'created_by': 'system'},\n",
       "  'name': 'ReAct Agent',\n",
       "  'created_at': '2025-07-03T04:44:04.320422+00:00',\n",
       "  'updated_at': '2025-07-03T04:44:04.320422+00:00',\n",
       "  'version': 1,\n",
       "  'description': None}]"
      ]
     },
     "execution_count": 8,
     "metadata": {},
     "output_type": "execute_result"
    }
   ],
   "source": [
    "assistants"
   ]
  },
  {
   "cell_type": "code",
   "execution_count": 9,
   "metadata": {},
   "outputs": [
    {
     "data": {
      "text/plain": [
       "dict"
      ]
     },
     "execution_count": 9,
     "metadata": {},
     "output_type": "execute_result"
    }
   ],
   "source": [
    "type(openai_assistant)"
   ]
  },
  {
   "cell_type": "code",
   "execution_count": 10,
   "metadata": {},
   "outputs": [
    {
     "data": {
      "text/plain": [
       "{'assistant_id': 'fe096781-5601-53d2-b2f6-0d3403f7e9ca',\n",
       " 'graph_id': 'agent',\n",
       " 'config': {},\n",
       " 'metadata': {'created_by': 'system'},\n",
       " 'name': 'ReAct Agent',\n",
       " 'created_at': '2025-07-03T04:44:04.320422+00:00',\n",
       " 'updated_at': '2025-07-03T04:44:04.320422+00:00',\n",
       " 'version': 1,\n",
       " 'description': None}"
      ]
     },
     "execution_count": 10,
     "metadata": {},
     "output_type": "execute_result"
    }
   ],
   "source": [
    "assistant"
   ]
  },
  {
   "cell_type": "code",
   "execution_count": 12,
   "metadata": {},
   "outputs": [
    {
     "name": "stdout",
     "output_type": "stream",
     "text": [
      "{'properties': {'system_prompt': {'default': 'You are a helpful AI assistant.\\n\\nSystem time: {system_time}', 'description': \"The system prompt to use for the agent's interactions. This prompt sets the context and behavior for the agent.\", 'title': 'System Prompt', 'type': 'string'}, 'model': {'default': 'deepseek/deepseek-chat', 'description': \"The name of the language model to use for the agent's main interactions. Should be in the form: provider/model-name.\", 'title': 'Model', 'type': 'string'}, 'max_search_results': {'default': 10, 'description': 'The maximum number of search results to return for each search query.', 'title': 'Max Search Results', 'type': 'integer'}}, 'title': 'Configuration', 'type': 'object'}\n"
     ]
    }
   ],
   "source": [
    "schemas = await client.assistants.get_schemas(\n",
    "    assistant_id=\"56bc0789-354d-467a-b4ad-d443c0a2cdb8\"\n",
    ")\n",
    "# There are multiple types of schemas\n",
    "# We can get the `config_schema` to look at the configurable parameters\n",
    "print(schemas[\"config_schema\"])"
   ]
  }
 ],
 "metadata": {
  "kernelspec": {
   "display_name": ".venv",
   "language": "python",
   "name": "python3"
  },
  "language_info": {
   "codemirror_mode": {
    "name": "ipython",
    "version": 3
   },
   "file_extension": ".py",
   "mimetype": "text/x-python",
   "name": "python",
   "nbconvert_exporter": "python",
   "pygments_lexer": "ipython3",
   "version": "3.12.4"
  }
 },
 "nbformat": 4,
 "nbformat_minor": 2
}
