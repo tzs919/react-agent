{
 "cells": [
  {
   "cell_type": "code",
   "execution_count": 1,
   "metadata": {},
   "outputs": [
    {
     "name": "stdout",
     "output_type": "stream",
     "text": [
      "Receiving new event of type: metadata...\n",
      "{'run_id': '1f057df8-f322-6f82-a01d-793144daa7d2', 'attempt': 1}\n",
      "\n",
      "\n",
      "\n",
      "Receiving new event of type: ...\n",
      "None\n",
      "\n",
      "\n",
      "\n",
      "Receiving new event of type: updates...\n",
      "{'call_model': {'messages': [{'content': '', 'additional_kwargs': {'tool_calls': [{'id': 'call_0_befb523d-566b-4501-bb6e-7779143e9801', 'function': {'arguments': '{\"query\":\"上海 天气 2025年7月3日\"}', 'name': 'search'}, 'type': 'function', 'index': 0}], 'refusal': None}, 'response_metadata': {'token_usage': {'completion_tokens': 27, 'prompt_tokens': 165, 'total_tokens': 192, 'completion_tokens_details': None, 'prompt_tokens_details': {'audio_tokens': None, 'cached_tokens': 0}, 'prompt_cache_hit_tokens': 0, 'prompt_cache_miss_tokens': 165}, 'model_name': 'deepseek-chat', 'system_fingerprint': 'fp_8802369eaa_prod0623_fp8_kvcache', 'id': '9461b74c-c3c8-4cad-88e7-e6dfa0778ea8', 'service_tier': None, 'finish_reason': 'tool_calls', 'logprobs': None}, 'type': 'ai', 'name': None, 'id': 'run--f632d45a-9b4f-45b7-a1da-6b86b1550938-0', 'example': False, 'tool_calls': [{'name': 'search', 'args': {'query': '上海 天气 2025年7月3日'}, 'id': 'call_0_befb523d-566b-4501-bb6e-7779143e9801', 'type': 'tool_call'}], 'invalid_tool_calls': [], 'usage_metadata': {'input_tokens': 165, 'output_tokens': 27, 'total_tokens': 192, 'input_token_details': {'cache_read': 0}, 'output_token_details': {}}}]}}\n",
      "\n",
      "\n",
      "\n",
      "Receiving new event of type: ...\n",
      "None\n",
      "\n",
      "\n",
      "\n",
      "Receiving new event of type: updates...\n",
      "{'tools': {'messages': [{'content': '{\"query\": \"上海 天气 2025年7月3日\", \"follow_up_questions\": null, \"answer\": null, \"images\": [], \"results\": [{\"url\": \"https://weather.cma.cn/web/alarm/31000041600000_20250703083835.html\", \"title\": \"上海市发布高温黄色预警 - 中国气象局-天气预报-预警信号\", \"content\": \"上海中心气象台2025年07月03日08时35分发布高温黄色预警[Ⅲ级/较重]：预计今天本市大部地区的最高气温将超过35℃，请注意用火用电安全，做好防暑防晒工作。\", \"score\": 0.98502, \"raw_content\": null}, {\"url\": \"https://www.cls.cn/detail/2074660\", \"title\": \"上海发布高温黄色预警：预计今天大部地区最高气温将超35℃ - 财联社\", \"content\": \"财联社7月3日电，上海中心气象台2025年7月3日8时35分发布高温黄色预警信号：预计今天本市大部地区的最高气温将超过35℃，请注意用火用电安全，做好防暑防晒工\", \"score\": 0.98329, \"raw_content\": null}, {\"url\": \"https://www.thepaper.cn/newsDetail_forward_31093511\", \"title\": \"上海发布高温黄色预警：预计今天大部地区最高气温将超35 - 澎湃新闻\", \"content\": \"上海中心气象台2025年7月3日8时35分发布高温黄色预警信号：预计今天本市大部地区的最高气温将超过35℃，请注意用火用电安全，做好防暑防晒工作。\", \"score\": 0.97943, \"raw_content\": null}, {\"url\": \"https://www.weather.com.cn/weather40d/101020100.shtml\", \"title\": \"预报- 上海 - 中国天气网\", \"content\": \"å\\x8f°é£\\x8eè·¯å¾\\x84 ç©ºé\\x97´å¤©æ°\\x94 å\\x9b¾ç\\x89\\x87 ä¸\\x93é¢\\x98 ç\\x8e¯å¢\\x83 æ\\x97\\x85æ¸¸ ç¢³ä¸\\xadå\\x92\\x8c æ°\\x94è±¡ç§\\x91æ\\x99® ä¸\\x80å¸¦ä¸\\x80è·¯ äº§å\\x88\\x9bå¹³å\\x8f° ç\\x83\\xadé\\x97¨å\\x9f\\x8eå¸\\x82 ç\\x83\\xadé\\x97¨æ\\x99¯ç\\x82¹ é\\x80\\x89æ\\x8b©ç\\x9c\\x81å¸\\x82 <<è¿\\x94å\\x9b\\x9e å\\x85¨å\\x9b½ å\\x91¨è¾¹å\\x9f\\x8eå¸\\x82 å\\x91¨è¾¹æ\\x99¯ç\\x82¹ æ\\x9c¬å\\x9c°ä¹¡é\\x95\\x87 ç\\x83\\xadé\\x97¨å\\x9f\\x8eå¸\\x82 é\\x80\\x89æ\\x8b©æ´²é\\x99 ### è\\x93\\x9då¤©é¢\\x84æ\\x8a¥ç»¼å\\x90\\x88å¤©æ°\\x94ç\\x8e°è±¡ã\\x80\\x81è\\x83½è§\\x81åº¦ã\\x80\\x81ç©ºæ°\\x94è´¨é\\x87\\x8fç\\xad\\x89å\\x9b å\\xad\\x90ï¼\\x8cé¢\\x84æµ\\x8bæ\\x9cªæ\\x9d¥ä¸\\x80å\\x91¨ç\\x9a\\x84å¤©ç©ºç\\x8a¶å\\x86µã\\x80\\x82 å\\x8e\\x86å\\x8f²å\\x9d\\x87å\\x80¼ å\\x8e\\x86å\\x8f²å\\x9d\\x87å\\x80¼ å\\x8e\\x86å\\x8f²å\\x9d\\x87å\\x80¼ å\\x8e\\x86å\\x8f²å\\x9d\\x87å\\x80¼ å\\x8e\\x86å\\x8f²å\\x9d\\x87å\\x80¼ å\\x8e\\x86å\\x8f²å\\x9d\\x87å\\x80¼ å\\x8e\\x86å\\x8f²å\\x9d\\x87å\\x80¼ å\\x8e\\x86å\\x8f²å\\x9d\\x87å\\x80¼ å\\x8e\\x86å\\x8f²å\\x9d\\x87å\\x80¼ å\\x8e\\x86å\\x8f²å\\x9d\\x87å\\x80¼ å\\x8e\\x86å\\x8f²å\\x9d\\x87å\\x80¼ å\\x8e\\x86å\\x8f²å\\x9d\\x87å\\x80¼ å\\x8e\\x86å\\x8f²å\\x9d\\x87å\\x80¼ å\\x8e\\x86å\\x8f²å\\x9d\\x87å\\x80¼ å\\x8e\\x86å\\x8f²å\\x9d\\x87å\\x80¼ å\\x8e\\x86å\\x8f²å\\x9d\\x87å\\x80¼ å\\x8e\\x86å\\x8f²å\\x9d\\x87å\\x80¼ å\\x8e\\x86å\\x8f²å\\x9d\\x87å\\x80¼ å\\x8e\\x86å\\x8f²å\\x9d\\x87å\\x80¼ å\\x8e\\x86å\\x8f²å\\x9d\\x87å\\x80¼ å\\x8e\\x86å\\x8f²å\\x9d\\x87å\\x80¼ å\\x8e\\x86å\\x8f²å\\x9d\\x87å\\x80¼ å\\x8e\\x86å\\x8f²å\\x9d\\x87å\\x80¼ å\\x8e\\x86å\\x8f²å\\x9d\\x87å\\x80¼ å\\x8e\\x86å\\x8f²å\\x9d\\x87å\\x80¼ å\\x8e\\x86å\\x8f²å\\x9d\\x87å\\x80¼ å\\x8e\\x86å\\x8f²å\\x9d\\x87å\\x80¼ # å\\x91¨è¾¹å\\x9c°å\\x8cº | å\\x91¨è¾¹æ\\x99¯ç\\x82¹ 2025-05-31 05:30æ\\x9b´æ\\x96° # å\\x91¨è¾¹å\\x9c°å\\x8cº | å\\x91¨è¾¹æ\\x99¯ç\\x82¹ 2025-05-31 05:30æ\\x9b´æ\\x96° # é«\\x98æ¸\\x85å\\x9b¾é\\x9b\\x86 é\\x9d\\x92æµ·è¥¿å®\\x81å\\x87ºç\\x8e°æ\\x97¥æ\\x99\\x95æ\\x99¯è§\\x82 å\\x85\\x89ç\\x8e¯é\\x97ªè\\x80\\x80å¤©ç©º å\\x8c\\x85ç½\\x97ä¸\\x87â\\x80\\x9cé¦\\x85â\\x80\\x9dç²½äº«ç«¯å\\x8d\\x88å¥½æ\\x97¶å\\x85\\x89 ## ä»\\x8aå¹´é¦\\x96å\\x9cºå¤§è\\x8c\\x83å\\x9b´é«\\x98æ¸©è¿\\x9bå\\x85¥é¼\\x8eç\\x9b\\x9bé\\x98¶æ®µ å\\x8d\\x97æ\\x96¹é\\x99\\x8dé\\x9b¨é\\x99·å\\x85¥â\\x80\\x9cè½¦è½®æ\\x88\\x98â\\x80\\x9d å\\x8c\\x97æ\\x96¹é¦\\x96å\\x9cºé«\\x98æ¸©å¤©æ°\\x94å°\\x86è¿\\x9bå\\x85¥é¼\\x8eç\\x9b\\x9bé\\x98¶æ®µ æ±\\x9få\\x8d\\x97å\\x8d\\x8eå\\x8d\\x97å¤\\x9aå\\x9c°é\\x9c\\x80è\\xad¦æ\\x83\\x95é\\x99\\x8dé\\x9b¨å\\x8f å\\x8a è\\x87´ç\\x81¾ ## å\\x8c\\x97æ\\x96¹é¦\\x96å\\x9cºé«\\x98æ¸©å¤©æ°\\x94å°\\x86è¿\\x9bå\\x85¥é¼\\x8eç\\x9b\\x9bé\\x98¶æ®µ æ±\\x9få\\x8d\\x97å\\x8d\\x8eå\\x8d\\x97å¤\\x9aå\\x9c°é\\x9c\\x80è\\xad¦æ\\x83\\x95é\\x99\\x8dé\\x9b¨å\\x8f å\\x8a è\\x87´ç\\x81¾ # æ\\x9b´å¤\\x9a>>é«\\x98æ¸\\x85å\\x9b¾é\\x9b\\x86 å\\x8c\\x85ç½\\x97ä¸\\x87â\\x80\\x9cé¦\\x85â\\x80\\x9dç²½äº«ç«¯å\\x8d\\x88å¥½æ\\x97¶å\\x85\\x89 å\\x85\\xadä¸\\x80å\\x84¿ç«¥è\\x8a\\x82 è\\x8a±è\\x8a±æ¸¸ä¹\\x90å\\x9b\\xadä¸\\xadç\\x9a\\x84å¿«ä¹\\x90ç\\x9e¬é\\x97´ é\\x9d\\x92æµ·è¥¿å®\\x81å\\x87ºç\\x8e°æ\\x97¥æ\\x99\\x95æ\\x99¯è§\\x82 å\\x85\\x89ç\\x8e¯é\\x97ªè\\x80\\x80å¤©ç©º # >> ç\\x94\\x9fæ´»æ\\x97\\x85æ¸¸ å°\\x8fæ»¡å\\x85»ç\\x94\\x9f æ³¨é\\x87\\x8dâ\\x80\\x9cæ\\x9cªç\\x97\\x85å\\x85\\x88é\\x98²â\\x80\\x9d å¤§ç¾\\x8eæ\\x96°ç\\x96\\x86â\\x80\\x94å¸\\x95ç±³å°\\x94é«\\x98å\\x8e\\x9få¥½é£\\x8eå\\x85\\x89 #### æ\\x99¯å\\x8cºå¤©æ°\\x94æ°\\x94æ¸© æ\\x97\\x85æ¸¸æ\\x8c\\x87æ\\x95° å\\x85³äº\\x8eæ\\x88\\x91ä»¬è\\x81\\x94ç³»æ\\x88\\x91ä»¬ç\\x94¨æ\\x88·å\\x8f\\x8dé¦\\x88\", \"score\": 0.97434, \"raw_content\": null}, {\"url\": \"https://www.nmc.cn/publish/alarm/31000041600000_20250703083835.html\", \"title\": \"上海市发布高温黄色预警 - 中央气象台官方网站-预警信号\", \"content\": \"上海中心气象台2025年07月03日08时35分发布高温黄色预警[Ⅲ级/较重]：预计今天本市大部地区的最高气温将超过35℃，请注意用火用电安全，做好防暑防晒工作。\", \"score\": 0.97179, \"raw_content\": null}, {\"url\": \"https://cj.sina.cn/articles/view/2868676035/aafc85c302001fp0y?vt=4\", \"title\": \"上海发布高温黄色预警：预计今天大部地区最高气温将超35 - 新浪财经\", \"content\": \"【上海发布高温黄色预警：预计今天大部地区最高气温将超35℃】财联社7月3日电，上海中心气象台2025年7月3日8时35分发布高温黄色预警信号：预计今天本市大部地\", \"score\": 0.96415, \"raw_content\": null}, {\"url\": \"https://tianqi.2345.com/wea_history/58362.htm\", \"title\": \"上海2025年7月历史天气\", \"content\": \"2345å¤©æ°\\x94é¢\\x84æ\\x8a¥ ### ç\\x83\\xadé\\x97¨å\\x9f\\x8eå¸\\x82 ### é\\x80\\x89æ\\x8b©ç\\x9c\\x81å¸\\x82 æ\\x89«ç \\x81ä¸\\x8bè½½appï¼\\x8cå¤©æ°\\x94é\\x9a\\x8fæ\\x97¶ç\\x9c\\x8b æ\\x89«ç \\x81ä¸\\x8bè½½appï¼\\x8cå¤©æ°\\x94é\\x9a\\x8fæ\\x97¶ç\\x9c\\x8b æ\\x82¨ä½¿ç\\x94¨ç\\x9a\\x84æµ\\x8fè§\\x88å\\x99¨ç\\x89\\x88æ\\x9c¬è¿\\x87ä½\\x8eï¼\\x81 å\\x8f¯è\\x83½æ\\x97 æ³\\x95æ\\xad£å¸¸æµ\\x8fè§\\x88ï¼\\x8cæ\\x82¨å\\x8f¯ä»¥é\\x80\\x89æ\\x8b© æ\\x89«ç \\x81ä¸\\x8bè½½APPï¼\\x8cå¤©æ°\\x94é\\x9a\\x8fæ\\x97¶ç\\x9c\\x8b # ä¸\\x8aæµ·å¸\\x82å\\x8e\\x86å\\x8f²å¤©æ°\\x94 | æ\\x97¥æ\\x9c\\x9f | æ\\x9c\\x80é«\\x98æ¸© | æ\\x9c\\x80ä½\\x8eæ¸© | å¤©æ°\\x94 | é£\\x8eå\\x8a\\x9bé£\\x8eå\\x90\\x91 | ç©ºæ°\\x94è´¨é\\x87\\x8fæ\\x8c\\x87æ\\x95° | | 2025-06-01 å\\x91¨æ\\x97¥ | 19Â° | 17Â° | å¤§é\\x9b¨~ä¸\\xadé\\x9b¨ | ä¸\\x9cå\\x8d\\x97é£\\x8e4çº§ | 43 ä¼\\x98 | | 2025-06-02 å\\x91¨ä¸\\x80 | 21Â° | 19Â° | å°\\x8fé\\x9b¨~é\\x98´ | è¥¿å\\x8c\\x97é£\\x8e2çº§ | 31 ä¼\\x98 | | 2025-06-03 å\\x91¨äº\\x8c | 29Â° | 20Â° | å¤\\x9aäº\\x91~é\\x98´ | å\\x8c\\x97é£\\x8e2çº§ | 47 ä¼\\x98 | | 2025-06-04 å\\x91¨ä¸\\x89 | 33Â° | 21Â° | é\\x98´ | å\\x8d\\x97é£\\x8e1çº§ | 93 è\\x89¯ | ## ä¸\\x8aæµ·å¸\\x82ä¸\\x8bè¾\\x96å\\x9c°å\\x8cºå¤©æ°\\x94 ## ä¸\\x8aæµ·å¸\\x82å\\x91¨è¾¹å\\x9c°å\\x8cºå¤©æ°\\x94 ## ä¸\\x8aæµ·å¸\\x82å\\x8e\\x86å\\x8f²6æ\\x9c\\x88æ°\\x94æ¸©è¶\\x8bå\\x8a¿ ## ä¸\\x8aæµ·å¸\\x82å\\x8e\\x86å\\x8f²å\\x90\\x84æ\\x9c\\x88æ°\\x94æ¸©è¶\\x8bå\\x8a¿ ## å¤©æ°\\x94å\\x88\\x86ç±» ## ç\\x83\\xadé\\x97¨å\\x9f\\x8eå¸\\x82å¤©æ°\\x94 ## ç²¾é\\x80\\x89æ\\x8e¨è\\x8d\\x90 ### ç½\\x91å\\x9d\\x80å¯¼è\\x88ª ### ä¸\\x8bè½½å¤©æ°\\x94é¢\\x84æ\\x8a¥APP ä¸\\x8bè½½å¤©æ°\\x94é¢\\x84æ\\x8a¥APP å®\\x89å\\x8d\\x93ä¸\\x8bè½½ App store 2345å¤©æ°\\x94é¢\\x84æ\\x8a¥ç\\x89\\x88æ\\x9d\\x83æ\\x89\\x80æ\\x9c\\x89ï¼\\x8cæ\\x9cªç»\\x8fä¹¦é\\x9d¢æ\\x8e\\x88æ\\x9d\\x83ç¦\\x81æ\\xad¢ä½¿ç\\x94¨Copyright©2345.comICPè¯\\x81æ²ªB2-20120099\", \"score\": 0.96134, \"raw_content\": null}, {\"url\": \"http://sh.cma.gov.cn/sh/tqyb/qxsk/\", \"title\": \"天气实况-上海市气象局\", \"content\": \"07月03日星期四; 晴. 多云. 28℃～37℃; 偏南风 风力4-5级 ; 07月04日星期五; 多云. 晴. 28℃～38℃; 偏南风 风力4-5级 ; 07月05日星期六; 多云. 雷阵雨. 28℃～39℃; 偏南风 风力3-4\", \"score\": 0.95478, \"raw_content\": null}, {\"url\": \"https://www.weather.com.cn/weather/101020100.shtml\", \"title\": \"预报- 上海 - 中国天气网\", \"content\": \"å\\x8f°é£\\x8eè·¯å¾\\x84 ç©ºé\\x97´å¤©æ°\\x94 å\\x9b¾ç\\x89\\x87 ä¸\\x93é¢\\x98 ç\\x8e¯å¢\\x83 æ\\x97\\x85æ¸¸ ç¢³ä¸\\xadå\\x92\\x8c å\\x85¨å\\x9b½ å\\x91¨è¾¹æ\\x99¯ç\\x82¹ 31/22â\\x84\\x83 31/23â\\x84\\x83 25/23â\\x84\\x83 26/21â\\x84\\x83 27/20â\\x84\\x83 24/22â\\x84\\x83 23/21â\\x84\\x83 å»ºè®®ç©¿ç\\x9f\\xadè¡«ã\\x80\\x81ç\\x9f\\xadè£¤ç\\xad\\x89æ¸\\x85å\\x87\\x89å¤\\x8få\\xad£æ\\x9c\\x8dè£\\x85ã\\x80\\x82 æ\\x97 é\\x9b¨ä¸\\x94é£\\x8eå\\x8a\\x9bè¾\\x83å°\\x8fï¼\\x8cæ\\x98\\x93ä¿\\x9dæ\\x8c\\x81æ¸\\x85æ´\\x81åº¦ã\\x80\\x82 æ¶\\x82æ\\x93¦SPFå¤§äº\\x8e15ã\\x80\\x81PA+é\\x98²æ\\x99\\x92æ\\x8a¤è\\x82¤å\\x93\\x81ã\\x80\\x82 å»ºè®®ç©¿ç\\x9f\\xadè¡«ã\\x80\\x81ç\\x9f\\xadè£¤ç\\xad\\x89æ¸\\x85å\\x87\\x89å¤\\x8få\\xad£æ\\x9c\\x8dè£\\x85ã\\x80\\x82 å»ºè®®ç©¿é\\x95¿è¢\\x96è¡¬è¡«å\\x8d\\x95è£¤ç\\xad\\x89æ\\x9c\\x8dè£\\x85ã\\x80\\x82 è¾\\x90å°\\x84å¼±ï¼\\x8cæ¶\\x82æ\\x93¦SPF8-12é\\x98²æ\\x99\\x92æ\\x8a¤è\\x82¤å\\x93\\x81ã\\x80\\x82 å»ºè®®ç©¿é\\x95¿è¢\\x96è¡¬è¡«å\\x8d\\x95è£¤ç\\xad\\x89æ\\x9c\\x8dè£\\x85ã\\x80\\x82 è¾\\x90å°\\x84å¼±ï¼\\x8cæ¶\\x82æ\\x93¦SPF8-12é\\x98²æ\\x99\\x92æ\\x8a¤è\\x82¤å\\x93\\x81ã\\x80\\x82 å»ºè®®ç©¿é\\x95¿è¢\\x96è¡¬è¡«å\\x8d\\x95è£¤ç\\xad\\x89æ\\x9c\\x8dè£\\x85ã\\x80\\x82 è¾\\x90å°\\x84å¼±ï¼\\x8cæ¶\\x82æ\\x93¦SPF8-12é\\x98²æ\\x99\\x92æ\\x8a¤è\\x82¤å\\x93\\x81ã\\x80\\x82 å»ºè®®ç©¿è\\x96\\x84å¤\\x96å¥\\x97æ\\x88\\x96ç\\x89\\x9bä»\\x94è£¤ç\\xad\\x89æ\\x9c\\x8dè£\\x85ã\\x80\\x82 è¾\\x90å°\\x84å¼±ï¼\\x8cæ¶\\x82æ\\x93¦SPF8-12é\\x98²æ\\x99\\x92æ\\x8a¤è\\x82¤å\\x93\\x81ã\\x80\\x82 å»ºè®®ç©¿è\\x96\\x84å¤\\x96å¥\\x97æ\\x88\\x96ç\\x89\\x9bä»\\x94è£¤ç\\xad\\x89æ\\x9c\\x8dè£\\x85ã\\x80\\x82 è¾\\x90å°\\x84å¼±ï¼\\x8cæ¶\\x82æ\\x93¦SPF8-12é\\x98²æ\\x99\\x92æ\\x8a¤è\\x82¤å\\x93\\x81ã\\x80\\x82 # å\\x91¨è¾¹å\\x9c°å\\x8cº | å\\x91¨è¾¹æ\\x99¯ç\\x82¹ 2025-06-05 07:30æ\\x9b´æ\\x96° # å\\x91¨è¾¹å\\x9c°å\\x8cº | å\\x91¨è¾¹æ\\x99¯ç\\x82¹ 2025-06-05 07:30æ\\x9b´æ\\x96° # é«\\x98æ¸\\x85å\\x9b¾é\\x9b\\x86 é\\x9d\\x92æµ·è¥¿å®\\x81å\\x87ºç\\x8e°æ\\x97¥æ\\x99\\x95æ\\x99¯è§\\x82 å\\x85\\x89ç\\x8e¯é\\x97ªè\\x80\\x80å¤©ç©º å\\x8c\\x85ç½\\x97ä¸\\x87â\\x80\\x9cé¦\\x85â\\x80\\x9dç²½äº«ç«¯å\\x8d\\x88å¥½æ\\x97¶å\\x85\\x89 å\\x85¨å\\x9b½å¤§é\\x83¨æ\\x99´å¤\\x9aé\\x9b¨å°\\x91 å\\x8c\\x97æ\\x96¹å¹²ç\\x83\\xadæ\\x9a´æ\\x99\\x92å\\x8d\\x97æ\\x96¹é\\x97·ç\\x83\\xadé\\x9a¾è\\x80\\x90 ## å\\x85¨å\\x9b½å¤§é\\x83¨æ\\x99´å¤\\x9aé\\x9b¨å°\\x91 å\\x8c\\x97æ\\x96¹å¹²ç\\x83\\xadæ\\x9a´æ\\x99\\x92å\\x8d\\x97æ\\x96¹é\\x97·ç\\x83\\xadé\\x9a¾è\\x80\\x90 é\\x95¿æ±\\x9fä¸\\xadä¸\\x8bæ¸¸ä»\\x8aå¤©ä»\\x8dä¸ºé\\x99\\x8dé\\x9b¨æ ¸å¿\\x83å\\x8cº å\\x8d\\x8eå\\x8d\\x97å¤©æ°\\x94é\\x97·ç\\x83\\xadå¤\\x9aå\\x9c°ä½\\x93æ\\x84\\x9fæ\\x88\\x96è¶\\x8540â\\x84\\x83 ## é\\x95¿æ±\\x9fä¸\\xadä¸\\x8bæ¸¸ä»\\x8aå¤©ä»\\x8dä¸ºé\\x99\\x8dé\\x9b¨æ ¸å¿\\x83å\\x8cº å\\x8d\\x8eå\\x8d\\x97å¤©æ°\\x94é\\x97·ç\\x83\\xadå¤\\x9aå\\x9c°ä½\\x93æ\\x84\\x9fæ\\x88\\x96è¶\\x8540â\\x84\\x83 å\\x8d\\x97æ\\x96¹è¿\\x9bå\\x85¥é\\x99\\x8dé\\x9b¨æ\\x9c\\x80å¼ºæ\\x97¶æ®µ ä¸\\x9cå\\x8c\\x97æ\\x8c\\x81ç»\\xadæ\\x99´ç\\x83\\xadé\\x83¨å\\x88\\x86å\\x9c°å\\x8cºæ\\x9c\\x80é«\\x98æ¸©æ\\x88\\x96è¶\\x8530â\\x84\\x83 ## å\\x8d\\x97æ\\x96¹è¿\\x9bå\\x85¥é\\x99\\x8dé\\x9b¨æ\\x9c\\x80å¼ºæ\\x97¶æ®µ ä¸\\x9cå\\x8c\\x97æ\\x8c\\x81ç»\\xadæ\\x99´ç\\x83\\xadé\\x83¨å\\x88\\x86å\\x9c°å\\x8cºæ\\x9c\\x80é«\\x98æ¸©æ\\x88\\x96è¶\\x8530â\\x84\\x83 # æ\\x9b´å¤\\x9a>>é«\\x98æ¸\\x85å\\x9b¾é\\x9b\\x86 å\\x8c\\x85ç½\\x97ä¸\\x87â\\x80\\x9cé¦\\x85â\\x80\\x9dç²½äº«ç«¯å\\x8d\\x88å¥½æ\\x97¶å\\x85\\x89 å\\x85\\xadä¸\\x80å\\x84¿ç«¥è\\x8a\\x82 è\\x8a±è\\x8a±æ¸¸ä¹\\x90å\\x9b\\xadä¸\\xadç\\x9a\\x84å¿«ä¹\\x90ç\\x9e¬é\\x97´ é\\x9d\\x92æµ·è¥¿å®\\x81å\\x87ºç\\x8e°æ\\x97¥æ\\x99\\x95æ\\x99¯è§\\x82 å\\x85\\x89ç\\x8e¯é\\x97ªè\\x80\\x80å¤©ç©º # >> ç\\x94\\x9fæ´»æ\\x97\\x85æ¸¸ å°\\x8fæ»¡å\\x85»ç\\x94\\x9f æ³¨é\\x87\\x8dâ\\x80\\x9cæ\\x9cªç\\x97\\x85å\\x85\\x88é\\x98²â\\x80\\x9d å¤§ç¾\\x8eæ\\x96°ç\\x96\\x86â\\x80\\x94å¸\\x95ç±³å°\\x94é«\\x98å\\x8e\\x9få¥½é£\\x8eå\\x85\\x89 #### æ\\x99¯å\\x8cºå¤©æ°\\x94æ°\\x94æ¸© æ\\x97\\x85æ¸¸æ\\x8c\\x87æ\\x95° å\\x85³äº\\x8eæ\\x88\\x91ä»¬è\\x81\\x94ç³»æ\\x88\\x91ä»¬ç\\x94¨æ\\x88·å\\x8f\\x8dé¦\\x88\", \"score\": 0.94977, \"raw_content\": null}, {\"url\": \"http://sh.cma.gov.cn/sh/tqyb/qxbg/\", \"title\": \"气象报告 - 上海市气象局\", \"content\": \"气象报告上海中心气象台2025年7月2日21点钟发布的上海市高温报告和天气预报、山东 ... 五日天气预报 · 天气实况 · 卫星云图 · 雷达回波图 · 生活气象指数 · 高温情况. 手机版\", \"score\": 0.94723, \"raw_content\": null}], \"response_time\": 1.16}', 'additional_kwargs': {}, 'response_metadata': {}, 'type': 'tool', 'name': 'search', 'id': 'e660722d-13a8-439c-995b-3f725ab5900b', 'tool_call_id': 'call_0_befb523d-566b-4501-bb6e-7779143e9801', 'artifact': None, 'status': 'success'}]}}\n",
      "\n",
      "\n",
      "\n",
      "Receiving new event of type: ...\n",
      "None\n",
      "\n",
      "\n",
      "\n",
      "Receiving new event of type: updates...\n",
      "{'call_model': {'messages': [{'content': '根据最新的天气预报，上海今天（2025年7月3日）发布了高温黄色预警，预计大部分地区的最高气温将超过35℃。请注意防暑降温，避免在高温时段长时间户外活动，并做好防晒和补水措施。', 'additional_kwargs': {'refusal': None}, 'response_metadata': {'token_usage': {'completion_tokens': 50, 'prompt_tokens': 6390, 'total_tokens': 6440, 'completion_tokens_details': None, 'prompt_tokens_details': {'audio_tokens': None, 'cached_tokens': 0}, 'prompt_cache_hit_tokens': 0, 'prompt_cache_miss_tokens': 6390}, 'model_name': 'deepseek-chat', 'system_fingerprint': 'fp_8802369eaa_prod0623_fp8_kvcache', 'id': '396447ab-0f37-43af-bba5-2083d362a917', 'service_tier': None, 'finish_reason': 'stop', 'logprobs': None}, 'type': 'ai', 'name': None, 'id': 'run--615ba6bb-c98c-4ee0-91dd-76194af4e234-0', 'example': False, 'tool_calls': [], 'invalid_tool_calls': [], 'usage_metadata': {'input_tokens': 6390, 'output_tokens': 50, 'total_tokens': 6440, 'input_token_details': {'cache_read': 0}, 'output_token_details': {}}}]}}\n",
      "\n",
      "\n",
      "\n"
     ]
    }
   ],
   "source": [
    "from langgraph_sdk import get_client\n",
    "\n",
    "client = get_client(url=\"http://localhost:2024\")\n",
    "\n",
    "async for chunk in client.runs.stream(\n",
    "    None,  # Threadless run\n",
    "    \"agent\", # Name of assistant. Defined in langgraph.json.\n",
    "    input={\n",
    "        \"messages\": [{\n",
    "            \"role\": \"human\",\n",
    "            \"content\": \"上海的天气怎么样?\",\n",
    "        }],\n",
    "    },\n",
    "    stream_mode=\"updates\",\n",
    "):\n",
    "    print(f\"Receiving new event of type: {chunk.event}...\")\n",
    "    print(chunk.data)\n",
    "    print(\"\\n\\n\")"
   ]
  }
 ],
 "metadata": {
  "kernelspec": {
   "display_name": ".venv",
   "language": "python",
   "name": "python3"
  },
  "language_info": {
   "codemirror_mode": {
    "name": "ipython",
    "version": 3
   },
   "file_extension": ".py",
   "mimetype": "text/x-python",
   "name": "python",
   "nbconvert_exporter": "python",
   "pygments_lexer": "ipython3",
   "version": "3.13.2"
  }
 },
 "nbformat": 4,
 "nbformat_minor": 2
}
